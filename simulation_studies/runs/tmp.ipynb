{
 "cells": [
  {
   "cell_type": "code",
   "execution_count": 1,
   "metadata": {},
   "outputs": [],
   "source": [
    "import numpy as np\n",
    "from utils import run_experiment"
   ]
  },
  {
   "cell_type": "code",
   "execution_count": 2,
   "metadata": {},
   "outputs": [],
   "source": [
    "# limit number of jobs\n",
    "N_JOBS = 4\n",
    "os.environ[\"OMP_NUM_THREADS\"] = str(N_JOBS)\n",
    "os.environ[\"MKL_NUM_THREADS\"] = str(N_JOBS)\n",
    "os.environ[\"NUMEXPR_NUM_THREADS\"] = str(N_JOBS)"
   ]
  },
  {
   "cell_type": "code",
   "execution_count": 9,
   "metadata": {},
   "outputs": [],
   "source": [
    "# parameters\n",
    "m = 5\n",
    "p = 9\n",
    "n = 1000\n",
    "density = \"sub_gauss_super\"\n",
    "noise_level = 1.\n",
    "random_state = 37\n",
    "ica_algo = \"shica_ml\""
   ]
  },
  {
   "cell_type": "code",
   "execution_count": 10,
   "metadata": {},
   "outputs": [],
   "source": [
    "dict_res = run_experiment(\n",
    "    m=m,\n",
    "    p=p,\n",
    "    n=n,\n",
    "    density=density,\n",
    "    random_state=random_state,\n",
    "    ica_algo=ica_algo,\n",
    "    noise_level=noise_level,\n",
    ")"
   ]
  },
  {
   "cell_type": "code",
   "execution_count": 11,
   "metadata": {},
   "outputs": [
    {
     "data": {
      "text/plain": [
       "{'m': 5,\n",
       " 'p': 9,\n",
       " 'n': 1000,\n",
       " 'noise_level': 1.0,\n",
       " 'ica_algo': 'shica_ml',\n",
       " 'nb_gaussian_disturbances': 3,\n",
       " 'random_state': 37,\n",
       " 'error_B': 0.004188367166326869,\n",
       " 'error_B_abs': 0.04158437650399081,\n",
       " 'error_T': 0.004188367166326869,\n",
       " 'error_T_abs': 0.04158437650399081,\n",
       " 'error_P_spearmanr': 1.0,\n",
       " 'error_P_exact': 0,\n",
       " 'amari_distance': 0.0077021076037199305}"
      ]
     },
     "execution_count": 11,
     "metadata": {},
     "output_type": "execute_result"
    }
   ],
   "source": [
    "dict_res"
   ]
  },
  {
   "cell_type": "code",
   "execution_count": null,
   "metadata": {},
   "outputs": [],
   "source": []
  }
 ],
 "metadata": {
  "interpreter": {
   "hash": "a3c11a1e4af707eb3a3d075b6d692a75dcdcb35799a64b362676f037bf3ea44b"
  },
  "kernelspec": {
   "display_name": "Python 3.11.11 ('mvica_lingam')",
   "language": "python",
   "name": "python3"
  },
  "language_info": {
   "codemirror_mode": {
    "name": "ipython",
    "version": 3
   },
   "file_extension": ".py",
   "mimetype": "text/x-python",
   "name": "python",
   "nbconvert_exporter": "python",
   "pygments_lexer": "ipython3",
   "version": "3.11.11"
  },
  "orig_nbformat": 4
 },
 "nbformat": 4,
 "nbformat_minor": 2
}
