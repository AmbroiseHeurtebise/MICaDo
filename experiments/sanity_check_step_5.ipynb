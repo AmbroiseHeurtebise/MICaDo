{
 "cells": [
  {
   "cell_type": "code",
   "execution_count": 101,
   "metadata": {},
   "outputs": [],
   "source": [
    "import numpy as np\n",
    "from itertools import product\n",
    "import matplotlib.pyplot as plt"
   ]
  },
  {
   "cell_type": "markdown",
   "metadata": {},
   "source": [
    "# sample data"
   ]
  },
  {
   "cell_type": "code",
   "execution_count": 88,
   "metadata": {},
   "outputs": [],
   "source": [
    "# parameters\n",
    "m = 10\n",
    "p = 5\n",
    "noise = 0.01\n",
    "option = 2\n",
    "random_state = 46\n",
    "rng = np.random.RandomState(random_state)"
   ]
  },
  {
   "cell_type": "code",
   "execution_count": 89,
   "metadata": {},
   "outputs": [],
   "source": [
    "def sample_data(m, p, noise, rng):\n",
    "    # causal effect matrices\n",
    "    B = rng.normal(size=(m, p, p))\n",
    "    for i in range(m):\n",
    "        B[i][np.triu_indices(p, k=0)] = 0  # set the strictly upper triangular part to 0\n",
    "\n",
    "    # causal order\n",
    "    P = np.eye(p)\n",
    "    rng.shuffle(P)\n",
    "\n",
    "    # permute rows and columns of B\n",
    "    B_shuffled = np.array([P.T @ Bi @ P for Bi in B])\n",
    "\n",
    "    # add noise\n",
    "    N = noise * rng.normal(size=(m, p, p))\n",
    "    B_hat = B_shuffled + N\n",
    "    \n",
    "    return B_hat, P\n",
    "\n",
    "B_hat, P = sample_data(m, p, noise, rng)\n",
    "true_order = np.argmax(P, axis=1)"
   ]
  },
  {
   "cell_type": "markdown",
   "metadata": {},
   "source": [
    "# retrieve causal order P"
   ]
  },
  {
   "cell_type": "code",
   "execution_count": 90,
   "metadata": {},
   "outputs": [
    {
     "data": {
      "image/png": "[encoded data removed]",
      "text/plain": [
       "<Figure size 432x288 with 2 Axes>"
      ]
     },
     "metadata": {
      "needs_background": "light"
     },
     "output_type": "display_data"
    }
   ],
   "source": [
    "if option == 1:\n",
    "    B_avg = np.mean(B_hat, axis=0)\n",
    "    B_sort = np.sort(np.abs(B_avg), axis=1)[:, ::-1]\n",
    "elif option == 2:\n",
    "    B_avg = np.mean(np.abs(B_hat), axis=0)\n",
    "    B_sort = np.sort(B_avg, axis=1)[:, ::-1]\n",
    "\n",
    "plt.imshow(B_sort)\n",
    "plt.colorbar()\n",
    "plt.show()"
   ]
  },
  {
   "cell_type": "code",
   "execution_count": 91,
   "metadata": {},
   "outputs": [
    {
     "data": {
      "text/plain": [
       "array([[3, 3, 2, 3, 3],\n",
       "       [4, 4, 3, 2, 0],\n",
       "       [2, 2, 4, 4, 1],\n",
       "       [1, 0, 0, 0, 4],\n",
       "       [0, 1, 1, 1, 2]])"
      ]
     },
     "execution_count": 91,
     "metadata": {},
     "output_type": "execute_result"
    }
   ],
   "source": [
    "B_argsort = np.argsort(B_sort, axis=0)\n",
    "B_argsort"
   ]
  },
  {
   "cell_type": "code",
   "execution_count": 92,
   "metadata": {},
   "outputs": [],
   "source": [
    "order = []\n",
    "for i in range(p):\n",
    "    col = B_argsort[:, i]\n",
    "    available_id = ~np.isin(B_argsort[:, i], order)\n",
    "    j = 0\n",
    "    while not available_id[j]:\n",
    "        j += 1\n",
    "    order.append(col[j])"
   ]
  },
  {
   "cell_type": "code",
   "execution_count": 93,
   "metadata": {},
   "outputs": [
    {
     "name": "stdout",
     "output_type": "stream",
     "text": [
      "The causal order is retrieved!\n"
     ]
    }
   ],
   "source": [
    "success = (order == true_order).all()\n",
    "\n",
    "if success:\n",
    "    print(\"The causal order is retrieved!\")\n",
    "else:\n",
    "    print(\"The causal order is not retrieved.\")"
   ]
  },
  {
   "cell_type": "markdown",
   "metadata": {},
   "source": [
    "# plot obtained matrices B"
   ]
  },
  {
   "cell_type": "code",
   "execution_count": 112,
   "metadata": {},
   "outputs": [],
   "source": [
    "P = np.eye(p)[order]\n",
    "B_tilde = P @ B_hat @ P.T"
   ]
  },
  {
   "cell_type": "code",
   "execution_count": 118,
   "metadata": {},
   "outputs": [],
   "source": [
    "# plot heat maps of causal effect matrices\n",
    "def heat_maps_B(B, absolute_value=True):\n",
    "    m, p, _ = B.shape\n",
    "    fontsize = 18\n",
    "    fig, axes = plt.subplots(1, m, figsize=(m*5, 5))\n",
    "    if absolute_value:\n",
    "        vmin = 0\n",
    "    else:\n",
    "        vmin = np.min(B)\n",
    "    for i, ax in enumerate(axes.flat):\n",
    "        if absolute_value:\n",
    "            Bi = np.abs(B[i])\n",
    "        else:\n",
    "            Bi = B[i]\n",
    "        im = ax.imshow(Bi, vmin=vmin, vmax=np.max(B), cmap=\"copper\")\n",
    "        ax.set_title(f\"View {i}\", fontsize=fontsize)\n",
    "    cbar = fig.colorbar(im, ax=axes, fraction=0.0042, pad=0.015)\n",
    "    cbar.set_label('Color Scale', fontsize=fontsize)\n",
    "    if absolute_value:\n",
    "        title_sup = \"(in absolute value)\"\n",
    "    else:\n",
    "        title_sup = \"\"\n",
    "    fig.suptitle(\n",
    "        f\"Causal effect matrices {title_sup} after retrieving permutation P\",\n",
    "        fontsize=fontsize)\n",
    "    fig.supxlabel(\"components\", fontsize=fontsize)\n",
    "    fig.supylabel(\"components\", fontsize=fontsize, x=0.11)\n",
    "    plt.show()"
   ]
  },
  {
   "cell_type": "code",
   "execution_count": 119,
   "metadata": {},
   "outputs": [
    {
     "data": {
      "image/png": "[encoded data removed]",
      "text/plain": [
       "<Figure size 3600x360 with 11 Axes>"
      ]
     },
     "metadata": {
      "needs_background": "light"
     },
     "output_type": "display_data"
    }
   ],
   "source": [
    "heat_maps_B(B_tilde)"
   ]
  },
  {
   "cell_type": "markdown",
   "metadata": {},
   "source": [
    "Causal matrices are now strictly lower triangular, as expected!"
   ]
  },
  {
   "cell_type": "markdown",
   "metadata": {},
   "source": [
    "# compare the 2 options for B_sort"
   ]
  },
  {
   "cell_type": "code",
   "execution_count": 94,
   "metadata": {},
   "outputs": [],
   "source": [
    "# varying parameters\n",
    "noise_list = np.logspace(-2, 1, 19)\n",
    "nb_seeds = 10\n",
    "random_state_list = np.arange(nb_seeds)"
   ]
  },
  {
   "cell_type": "code",
   "execution_count": 98,
   "metadata": {},
   "outputs": [],
   "source": [
    "# function that finds P such that P @ B @ P.T is strictly lower triangular\n",
    "def find_order(B_hat, option=1):\n",
    "    _, p, _ = B_hat.shape\n",
    "    if option == 1:\n",
    "        B_avg = np.mean(B_hat, axis=0)\n",
    "        B_sort = np.sort(np.abs(B_avg), axis=1)[:, ::-1]\n",
    "    elif option == 2:\n",
    "        B_avg = np.mean(np.abs(B_hat), axis=0)\n",
    "        B_sort = np.sort(B_avg, axis=1)[:, ::-1]\n",
    "    B_argsort = np.argsort(B_sort, axis=0)\n",
    "    order = []\n",
    "    for i in range(p):\n",
    "        col = B_argsort[:, i]\n",
    "        available_id = ~np.isin(B_argsort[:, i], order)\n",
    "        j = 0\n",
    "        while not available_id[j]:\n",
    "            j += 1\n",
    "        order.append(col[j])\n",
    "    return order"
   ]
  },
  {
   "cell_type": "code",
   "execution_count": 99,
   "metadata": {},
   "outputs": [],
   "source": [
    "# main function\n",
    "def run_experiment(noise, random_state, m, p, option=1):\n",
    "    # sample data\n",
    "    B_hat, P = sample_data(m, p, noise, np.random.RandomState(random_state))\n",
    "    true_order = np.argmax(P, axis=1)\n",
    "    # find order P\n",
    "    order = find_order(B_hat, option=option)\n",
    "    # error\n",
    "    return 1 - (order == true_order).all()"
   ]
  },
  {
   "cell_type": "code",
   "execution_count": 102,
   "metadata": {},
   "outputs": [],
   "source": [
    "# option 1\n",
    "results_1 = np.array([\n",
    "    run_experiment(noise_, random_state_, m, p, option=1)\n",
    "    for noise_, random_state_\n",
    "    in product(noise_list, random_state_list)])\n",
    "results_1 = results_1.reshape(len(noise_list), len(random_state_list))\n",
    "error_rate_1 = np.mean(results_1, axis=1)\n",
    "\n",
    "# option 2\n",
    "results_2 = np.array([\n",
    "    run_experiment(noise_, random_state_, m, p, option=2)\n",
    "    for noise_, random_state_\n",
    "    in product(noise_list, random_state_list)])\n",
    "results_2 = results_2.reshape(len(noise_list), len(random_state_list))\n",
    "error_rate_2 = np.mean(results_2, axis=1)"
   ]
  },
  {
   "cell_type": "code",
   "execution_count": 103,
   "metadata": {},
   "outputs": [
    {
     "data": {
      "image/png": "[encoded data removed]",
      "text/plain": [
       "<Figure size 576x432 with 1 Axes>"
      ]
     },
     "metadata": {
      "needs_background": "light"
     },
     "output_type": "display_data"
    }
   ],
   "source": [
    "# colors\n",
    "prop_cycle = plt.rcParams['axes.prop_cycle']\n",
    "colors = prop_cycle.by_key()['color']\n",
    "\n",
    "# plot rates\n",
    "plt.figure(figsize=(8, 6))\n",
    "\n",
    "stem1 = plt.stem(noise_list, error_rate_1, label='option 1')\n",
    "plt.setp(stem1.markerline, color=colors[0])  # Set marker color\n",
    "plt.setp(stem1.stemlines, color=colors[0])   # Set stem line color\n",
    "plt.setp(stem1.baseline, color=colors[0])    # Set baseline color\n",
    "epsilon = 2 * 1e-2 * noise_list\n",
    "stem2 = plt.stem(noise_list + epsilon, error_rate_2, label='option 2')\n",
    "plt.setp(stem2.markerline, color=colors[1])  # Set marker color\n",
    "plt.setp(stem2.stemlines, color=colors[1])   # Set stem line color\n",
    "plt.setp(stem2.baseline, color=colors[1])    # Set baseline color\n",
    "\n",
    "plt.xscale(\"log\")\n",
    "plt.legend()\n",
    "plt.title(f\"Error rates of the two options with {nb_seeds} seeds\")\n",
    "plt.xlabel(\"Noise level\")\n",
    "plt.ylabel(\"Error rate\")\n",
    "plt.grid()\n",
    "plt.show()"
   ]
  },
  {
   "cell_type": "markdown",
   "metadata": {},
   "source": [
    "Obviously, the second option (i.e. average of absolute values) is better than the first option (i.e. absolute value of averages) with these data."
   ]
  },
  {
   "cell_type": "code",
   "execution_count": 127,
   "metadata": {},
   "outputs": [
    {
     "name": "stdout",
     "output_type": "stream",
     "text": [
      "The maximum noise level allowed seems to be between 0.4642 and 0.6813.\n"
     ]
    }
   ],
   "source": [
    "id = np.argmax(error_rate_2 != 0)\n",
    "noise_1 = noise_list[id-1]\n",
    "noise_2 = noise_list[id]\n",
    "\n",
    "print(f\"The maximum noise level allowed seems to be between {noise_1:.4f} and {noise_2:.4f}.\")"
   ]
  },
  {
   "cell_type": "markdown",
   "metadata": {},
   "source": [
    "The function find_order() is a bit naive because it only looks at row permutations (and not column permutations) and because it iterates over the columns instead of doing a global search, but it seems to work.\n",
    "\n",
    "Moreover, it's starting not to work when the noise level is between 0.46 and 0.68, just as for the linear sum assignment method used in step 2. So, using a more powerful method to find P would only be useful if we also use more powerful method to find Q."
   ]
  },
  {
   "cell_type": "code",
   "execution_count": null,
   "metadata": {},
   "outputs": [],
   "source": []
  }
 ],
 "metadata": {
  "interpreter": {
   "hash": "f3e1f0c92aeed84689cfea023dd5d31b12e5f0b01cf0ee4a77d80d8274095e67"
  },
  "kernelspec": {
   "display_name": "Python 3.9.7 ('base')",
   "language": "python",
   "name": "python3"
  },
  "language_info": {
   "codemirror_mode": {
    "name": "ipython",
    "version": 3
   },
   "file_extension": ".py",
   "mimetype": "text/x-python",
   "name": "python",
   "nbconvert_exporter": "python",
   "pygments_lexer": "ipython3",
   "version": "3.9.7"
  },
  "orig_nbformat": 4
 },
 "nbformat": 4,
 "nbformat_minor": 2
}
