{
 "cells": [
  {
   "cell_type": "code",
   "execution_count": 1,
   "metadata": {},
   "outputs": [],
   "source": [
    "import os\n",
    "from pathlib import Path\n",
    "import numpy as np\n",
    "import pandas as pd\n",
    "from mne_bids import BIDSPath, read_raw_bids"
   ]
  },
  {
   "cell_type": "code",
   "execution_count": 2,
   "metadata": {},
   "outputs": [],
   "source": [
    "DATA_DIR = Path(\"/data/parietal/store/data/camcan\")\n",
    "BIDS_ROOT = DATA_DIR / \"BIDSsep/smt/\"  # Root path to raw BIDS files\n",
    "PARTICIPANTS_FILE = BIDS_ROOT / \"participants.tsv\""
   ]
  },
  {
   "cell_type": "code",
   "execution_count": 3,
   "metadata": {},
   "outputs": [],
   "source": [
    "participants = pd.read_csv(PARTICIPANTS_FILE, sep='\\t', header=0)"
   ]
  },
  {
   "cell_type": "code",
   "execution_count": 4,
   "metadata": {},
   "outputs": [
    {
     "data": {
      "text/html": [
       "<div>\n",
       "<style scoped>\n",
       "    .dataframe tbody tr th:only-of-type {\n",
       "        vertical-align: middle;\n",
       "    }\n",
       "\n",
       "    .dataframe tbody tr th {\n",
       "        vertical-align: top;\n",
       "    }\n",
       "\n",
       "    .dataframe thead th {\n",
       "        text-align: right;\n",
       "    }\n",
       "</style>\n",
       "<table border=\"1\" class=\"dataframe\">\n",
       "  <thead>\n",
       "    <tr style=\"text-align: right;\">\n",
       "      <th></th>\n",
       "      <th>participant_id</th>\n",
       "      <th>age</th>\n",
       "      <th>sex</th>\n",
       "      <th>hand</th>\n",
       "      <th>Unnamed: 4</th>\n",
       "    </tr>\n",
       "  </thead>\n",
       "  <tbody>\n",
       "    <tr>\n",
       "      <th>0</th>\n",
       "      <td>sub-CC110033</td>\n",
       "      <td>24.17</td>\n",
       "      <td>MALE</td>\n",
       "      <td>90.0</td>\n",
       "      <td>NaN</td>\n",
       "    </tr>\n",
       "    <tr>\n",
       "      <th>1</th>\n",
       "      <td>sub-CC110037</td>\n",
       "      <td>18.75</td>\n",
       "      <td>MALE</td>\n",
       "      <td>89.0</td>\n",
       "      <td>NaN</td>\n",
       "    </tr>\n",
       "    <tr>\n",
       "      <th>2</th>\n",
       "      <td>sub-CC110045</td>\n",
       "      <td>24.50</td>\n",
       "      <td>FEMALE</td>\n",
       "      <td>100.0</td>\n",
       "      <td>NaN</td>\n",
       "    </tr>\n",
       "    <tr>\n",
       "      <th>3</th>\n",
       "      <td>sub-CC110056</td>\n",
       "      <td>22.67</td>\n",
       "      <td>FEMALE</td>\n",
       "      <td>100.0</td>\n",
       "      <td>NaN</td>\n",
       "    </tr>\n",
       "    <tr>\n",
       "      <th>4</th>\n",
       "      <td>sub-CC110069</td>\n",
       "      <td>28.67</td>\n",
       "      <td>FEMALE</td>\n",
       "      <td>-58.0</td>\n",
       "      <td>NaN</td>\n",
       "    </tr>\n",
       "    <tr>\n",
       "      <th>...</th>\n",
       "      <td>...</td>\n",
       "      <td>...</td>\n",
       "      <td>...</td>\n",
       "      <td>...</td>\n",
       "      <td>...</td>\n",
       "    </tr>\n",
       "    <tr>\n",
       "      <th>638</th>\n",
       "      <td>sub-CC722542</td>\n",
       "      <td>79.33</td>\n",
       "      <td>MALE</td>\n",
       "      <td>100.0</td>\n",
       "      <td>NaN</td>\n",
       "    </tr>\n",
       "    <tr>\n",
       "      <th>639</th>\n",
       "      <td>sub-CC722651</td>\n",
       "      <td>79.83</td>\n",
       "      <td>FEMALE</td>\n",
       "      <td>100.0</td>\n",
       "      <td>NaN</td>\n",
       "    </tr>\n",
       "    <tr>\n",
       "      <th>640</th>\n",
       "      <td>sub-CC722891</td>\n",
       "      <td>84.42</td>\n",
       "      <td>FEMALE</td>\n",
       "      <td>89.0</td>\n",
       "      <td>NaN</td>\n",
       "    </tr>\n",
       "    <tr>\n",
       "      <th>641</th>\n",
       "      <td>sub-CC723197</td>\n",
       "      <td>80.08</td>\n",
       "      <td>FEMALE</td>\n",
       "      <td>100.0</td>\n",
       "      <td>NaN</td>\n",
       "    </tr>\n",
       "    <tr>\n",
       "      <th>642</th>\n",
       "      <td>sub-CC723395</td>\n",
       "      <td>86.08</td>\n",
       "      <td>FEMALE</td>\n",
       "      <td>90.0</td>\n",
       "      <td>NaN</td>\n",
       "    </tr>\n",
       "  </tbody>\n",
       "</table>\n",
       "<p>643 rows × 5 columns</p>\n",
       "</div>"
      ],
      "text/plain": [
       "    participant_id    age     sex   hand  Unnamed: 4\n",
       "0     sub-CC110033  24.17    MALE   90.0         NaN\n",
       "1     sub-CC110037  18.75    MALE   89.0         NaN\n",
       "2     sub-CC110045  24.50  FEMALE  100.0         NaN\n",
       "3     sub-CC110056  22.67  FEMALE  100.0         NaN\n",
       "4     sub-CC110069  28.67  FEMALE  -58.0         NaN\n",
       "..             ...    ...     ...    ...         ...\n",
       "638   sub-CC722542  79.33    MALE  100.0         NaN\n",
       "639   sub-CC722651  79.83  FEMALE  100.0         NaN\n",
       "640   sub-CC722891  84.42  FEMALE   89.0         NaN\n",
       "641   sub-CC723197  80.08  FEMALE  100.0         NaN\n",
       "642   sub-CC723395  86.08  FEMALE   90.0         NaN\n",
       "\n",
       "[643 rows x 5 columns]"
      ]
     },
     "execution_count": 4,
     "metadata": {},
     "output_type": "execute_result"
    }
   ],
   "source": [
    "participants"
   ]
  },
  {
   "cell_type": "code",
   "execution_count": 5,
   "metadata": {},
   "outputs": [
    {
     "name": "stdout",
     "output_type": "stream",
     "text": [
      "Opening raw data file /data/parietal/store/data/camcan/BIDSsep/smt/sub-CC110033/ses-smt/meg/sub-CC110033_ses-smt_task-smt_meg.fif...\n",
      "    Read a total of 8 projection items:\n",
      "        mag_ssp_upright.fif : PCA-mags-v1 (1 x 306)  idle\n",
      "        mag_ssp_upright.fif : PCA-mags-v2 (1 x 306)  idle\n",
      "        mag_ssp_upright.fif : PCA-mags-v3 (1 x 306)  idle\n",
      "        mag_ssp_upright.fif : PCA-mags-v4 (1 x 306)  idle\n",
      "        mag_ssp_upright.fif : PCA-mags-v5 (1 x 306)  idle\n",
      "        grad_ssp_upright.fif : PCA-grad-v1 (1 x 306)  idle\n",
      "        grad_ssp_upright.fif : PCA-grad-v2 (1 x 306)  idle\n",
      "        grad_ssp_upright.fif : PCA-grad-v3 (1 x 306)  idle\n",
      "    Range : 16000 ... 557999 =     16.000 ...   557.999 secs\n",
      "Ready.\n",
      "Reading events from /data/parietal/store/data/camcan/BIDSsep/smt/sub-CC110033/ses-smt/meg/sub-CC110033_ses-smt_task-smt_events.tsv.\n",
      "Reading channel info from /data/parietal/store/data/camcan/BIDSsep/smt/sub-CC110033/ses-smt/meg/sub-CC110033_ses-smt_task-smt_channels.tsv.\n",
      "Not fully anonymizing info - keeping his_id, sex, and hand info\n"
     ]
    },
    {
     "name": "stderr",
     "output_type": "stream",
     "text": [
      "/tmp/ipykernel_21546/1136262174.py:9: RuntimeWarning: Unable to map the following column(s) to to MNE:\n",
      "hand (subject handedness): 90\n",
      ": \n",
      "  raw = read_raw_bids(bp)\n"
     ]
    }
   ],
   "source": [
    "bp = BIDSPath(\n",
    "    root=BIDS_ROOT,\n",
    "    subject=\"CC110033\",\n",
    "    task=\"smt\",\n",
    "    datatype=\"meg\",\n",
    "    extension=\".fif\",\n",
    "    session=\"smt\",\n",
    ")   \n",
    "raw = read_raw_bids(bp)"
   ]
  },
  {
   "cell_type": "code",
   "execution_count": null,
   "metadata": {},
   "outputs": [],
   "source": []
  }
 ],
 "metadata": {
  "interpreter": {
   "hash": "a3c11a1e4af707eb3a3d075b6d692a75dcdcb35799a64b362676f037bf3ea44b"
  },
  "kernelspec": {
   "display_name": "Python 3.11.11 ('mvica_lingam')",
   "language": "python",
   "name": "python3"
  },
  "language_info": {
   "codemirror_mode": {
    "name": "ipython",
    "version": 3
   },
   "file_extension": ".py",
   "mimetype": "text/x-python",
   "name": "python",
   "nbconvert_exporter": "python",
   "pygments_lexer": "ipython3",
   "version": "3.11.11"
  },
  "orig_nbformat": 4
 },
 "nbformat": 4,
 "nbformat_minor": 2
}
